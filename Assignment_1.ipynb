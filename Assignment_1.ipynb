{
  "nbformat": 4,
  "nbformat_minor": 0,
  "metadata": {
    "colab": {
      "name": "Assignment 1.ipynb",
      "provenance": []
    },
    "kernelspec": {
      "name": "python3",
      "display_name": "Python 3"
    }
  },
  "cells": [
    {
      "cell_type": "code",
      "metadata": {
        "id": "ShTNCw_UipZh",
        "colab": {
          "base_uri": "https://localhost:8080/"
        },
        "outputId": "6bb371fe-00e4-4293-b53d-b0f50f710ba7"
      },
      "source": [
        "A = 7\n",
        "B = 9\n",
        "\n",
        "print(A * 3)\n",
        "print(B - 5 + 7)\n",
        "print(A/B * 10)"
      ],
      "execution_count": null,
      "outputs": [
        {
          "output_type": "stream",
          "text": [
            "21\n",
            "11\n",
            "7.777777777777778\n"
          ],
          "name": "stdout"
        }
      ]
    },
    {
      "cell_type": "code",
      "metadata": {
        "colab": {
          "base_uri": "https://localhost:8080/"
        },
        "id": "h9q_dTvZWaHH",
        "outputId": "e0c49902-ba45-4430-eefe-f1995720cade"
      },
      "source": [
        "print(int(input(\"Enter a number=\")) * 7)\n",
        "print(int(input(\"Enter a number=\")) + 189)\n",
        "print(int(input(\"Enter a number=\")) - 65)\n",
        "print(int(input(\"Enter a number=\")) / 6)"
      ],
      "execution_count": null,
      "outputs": [
        {
          "output_type": "stream",
          "text": [
            "Enter a number=65\n",
            "455\n",
            "Enter a number=26\n",
            "215\n",
            "Enter a number=70\n",
            "5\n",
            "Enter a number=36\n",
            "6.0\n"
          ],
          "name": "stdout"
        }
      ]
    }
  ]
}