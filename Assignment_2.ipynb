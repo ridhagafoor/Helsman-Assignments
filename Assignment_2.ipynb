{
  "nbformat": 4,
  "nbformat_minor": 0,
  "metadata": {
    "colab": {
      "name": "Assignment 2.ipynb",
      "provenance": []
    },
    "kernelspec": {
      "name": "python3",
      "display_name": "Python 3"
    }
  },
  "cells": [
    {
      "cell_type": "code",
      "metadata": {
        "colab": {
          "base_uri": "https://localhost:8080/"
        },
        "id": "P2VSIQny8t97",
        "outputId": "c5b31961-7615-4848-c3f8-db15c6483e59"
      },
      "source": [
        "Username = 'Ridha'\n",
        "Password = '5678'\n",
        "\n",
        "userpassword = input(\"Enter the password\")\n",
        "if userpassword == Password : \n",
        "  print(\"Welcome \" + Username)\n",
        "\n",
        "else :\n",
        "  print(\"Incorrect Password\")\n"
      ],
      "execution_count": null,
      "outputs": [
        {
          "output_type": "stream",
          "text": [
            "Enter the password5678\n",
            "Welcome Ridha\n"
          ],
          "name": "stdout"
        }
      ]
    },
    {
      "cell_type": "code",
      "metadata": {
        "colab": {
          "base_uri": "https://localhost:8080/"
        },
        "id": "gmzlaQxh9Dfc",
        "outputId": "17e30752-b81c-47f9-a49d-e4e50c719b42"
      },
      "source": [
        "Username = 'Ridha'\n",
        "Password = '5678'\n",
        "\n",
        "name = input(\"Enter the name\")\n",
        "userpassword = input(\"Enter the password\")\n",
        "\n",
        "if name==Username :\n",
        "  if userpassword==Password :\n",
        "    print(\"Welcome \" + Username)\n",
        "  else :\n",
        "    print(\"Incorrect Password\")\n",
        "else :\n",
        "  print(\"This user is not our database\")\n",
        "\n",
        "    \n",
        "  "
      ],
      "execution_count": null,
      "outputs": [
        {
          "output_type": "stream",
          "text": [
            "Enter the nameRidha\n",
            "Enter the password5678\n",
            "Welcome Ridha\n"
          ],
          "name": "stdout"
        }
      ]
    },
    {
      "cell_type": "code",
      "metadata": {
        "colab": {
          "base_uri": "https://localhost:8080/"
        },
        "id": "Bn6h653t_y7X",
        "outputId": "b580492a-7a08-4850-870d-c097bb623381"
      },
      "source": [
        "Username = 'Ridha'\n",
        "Password = '5678'\n",
        "OTP = '6215'\n",
        "\n",
        "name = input(\"Enter the name\")\n",
        "userpassword = input(\"Enter the password\")\n",
        "otp = input(\"Enter the OTP\")\n",
        "\n",
        "if name==Username :\n",
        "  if userpassword==Password :\n",
        "    if otp==OTP :\n",
        "      print(\"Login Verified\")\n",
        "    else :\n",
        "      print(\"Invalid OTP\")\n",
        "  else :\n",
        "    print(\"Incorrect Password\")\n",
        "else :\n",
        "  print(\"This user is not our database\")\n"
      ],
      "execution_count": null,
      "outputs": [
        {
          "output_type": "stream",
          "text": [
            "Enter the nameRidha\n",
            "Enter the password5678\n",
            "Enter the OTP6215\n",
            "Welcome Ridha\n",
            "Login Verified\n"
          ],
          "name": "stdout"
        }
      ]
    },
    {
      "cell_type": "code",
      "metadata": {
        "colab": {
          "base_uri": "https://localhost:8080/"
        },
        "id": "QKpbpQbmBzdH",
        "outputId": "b8536283-c062-47de-b6eb-8a8172b52ef7"
      },
      "source": [
        "marks = int(input(\"Enter the mark\"))\n",
        " \n",
        "if marks > 90 :\n",
        "  print(\"Grade is A\")\n",
        "\n",
        "elif marks > 80 :\n",
        "  print(\"Grade is B\")\n",
        "  \n",
        "elif marks > 70 :\n",
        "  print(\"Grade i C\")\n",
        "\n",
        "elif marks > 60 :\n",
        "  print(\"Grade is D\")\n",
        "\n",
        "else :\n",
        "  print(\"Failed!\")"
      ],
      "execution_count": null,
      "outputs": [
        {
          "output_type": "stream",
          "text": [
            "Enter the mark55\n",
            "Failed!\n"
          ],
          "name": "stdout"
        }
      ]
    },
    {
      "cell_type": "markdown",
      "metadata": {
        "id": "HQF7gvAuEvmX"
      },
      "source": [
        "Loops"
      ]
    },
    {
      "cell_type": "code",
      "metadata": {
        "colab": {
          "base_uri": "https://localhost:8080/"
        },
        "id": "Ap7uAdXiEu-1",
        "outputId": "89dbe611-4d5a-4053-fda1-e834d2fd9f87"
      },
      "source": [
        "for i in range(10) :\n",
        "  print(i)\n"
      ],
      "execution_count": null,
      "outputs": [
        {
          "output_type": "stream",
          "text": [
            "0\n",
            "1\n",
            "2\n",
            "3\n",
            "4\n",
            "5\n",
            "6\n",
            "7\n",
            "8\n",
            "9\n"
          ],
          "name": "stdout"
        }
      ]
    },
    {
      "cell_type": "code",
      "metadata": {
        "colab": {
          "base_uri": "https://localhost:8080/"
        },
        "id": "jIx4l-SdHARM",
        "outputId": "133ef97d-8450-496b-8e3e-f558c77ef550"
      },
      "source": [
        "for i in range(2, 20) :\n",
        "  print(i)"
      ],
      "execution_count": null,
      "outputs": [
        {
          "output_type": "stream",
          "text": [
            "2\n",
            "3\n",
            "4\n",
            "5\n",
            "6\n",
            "7\n",
            "8\n",
            "9\n",
            "10\n",
            "11\n",
            "12\n",
            "13\n",
            "14\n",
            "15\n",
            "16\n",
            "17\n",
            "18\n",
            "19\n"
          ],
          "name": "stdout"
        }
      ]
    },
    {
      "cell_type": "code",
      "metadata": {
        "colab": {
          "base_uri": "https://localhost:8080/"
        },
        "id": "aKpyu93CHwaC",
        "outputId": "4aeaa914-5230-441c-d631-6e758a20d78a"
      },
      "source": [
        "for i in range(2, 15, 3) :\n",
        "  print(i)"
      ],
      "execution_count": null,
      "outputs": [
        {
          "output_type": "stream",
          "text": [
            "2\n",
            "5\n",
            "8\n",
            "11\n",
            "14\n"
          ],
          "name": "stdout"
        }
      ]
    },
    {
      "cell_type": "code",
      "metadata": {
        "colab": {
          "base_uri": "https://localhost:8080/"
        },
        "id": "0af2oWDGJSjE",
        "outputId": "164cf8d6-c980-440e-cb57-4b073c19836f"
      },
      "source": [
        "for x in range(1, 11) :\n",
        "  print(x*3)\n"
      ],
      "execution_count": null,
      "outputs": [
        {
          "output_type": "stream",
          "text": [
            "3\n",
            "6\n",
            "9\n",
            "12\n",
            "15\n",
            "18\n",
            "21\n",
            "24\n",
            "27\n",
            "30\n"
          ],
          "name": "stdout"
        }
      ]
    },
    {
      "cell_type": "code",
      "metadata": {
        "colab": {
          "base_uri": "https://localhost:8080/"
        },
        "id": "QKVb9RkaJ3iW",
        "outputId": "deee203f-7e20-446e-d7eb-c42bbb23386e"
      },
      "source": [
        "for x in range(1, 35) :\n",
        "  if x/2 :\n",
        "    print(x)\n",
        "  else :\n",
        "    print(\"Not working\")"
      ],
      "execution_count": null,
      "outputs": [
        {
          "output_type": "stream",
          "text": [
            "1\n",
            "2\n",
            "3\n",
            "4\n",
            "5\n",
            "6\n",
            "7\n",
            "8\n",
            "9\n",
            "10\n",
            "11\n",
            "12\n",
            "13\n",
            "14\n",
            "15\n",
            "16\n",
            "17\n",
            "18\n",
            "19\n",
            "20\n",
            "21\n",
            "22\n",
            "23\n",
            "24\n",
            "25\n",
            "26\n",
            "27\n",
            "28\n",
            "29\n",
            "30\n",
            "31\n",
            "32\n",
            "33\n",
            "34\n"
          ],
          "name": "stdout"
        }
      ]
    },
    {
      "cell_type": "code",
      "metadata": {
        "colab": {
          "base_uri": "https://localhost:8080/"
        },
        "id": "VFxAOrNCMpAH",
        "outputId": "1e23ee11-b532-457e-afbc-663e29ae513d"
      },
      "source": [
        "Students = [\"Ravi\", \"Raja\", \"Rani\", \"Rajesh\"]\n",
        "Students [1:4]"
      ],
      "execution_count": null,
      "outputs": [
        {
          "output_type": "execute_result",
          "data": {
            "text/plain": [
              "['Raja', 'Rani', 'Rajesh']"
            ]
          },
          "metadata": {
            "tags": []
          },
          "execution_count": 27
        }
      ]
    },
    {
      "cell_type": "code",
      "metadata": {
        "colab": {
          "base_uri": "https://localhost:8080/"
        },
        "id": "akLxCWHVNzGf",
        "outputId": "f2df363c-3aab-4c76-cf9f-0eb8e2f13f57"
      },
      "source": [
        "for a in Students :\n",
        "  print(a)"
      ],
      "execution_count": null,
      "outputs": [
        {
          "output_type": "stream",
          "text": [
            "Ravi\n",
            "Raja\n",
            "Rani\n",
            "Rajesh\n"
          ],
          "name": "stdout"
        }
      ]
    },
    {
      "cell_type": "code",
      "metadata": {
        "colab": {
          "base_uri": "https://localhost:8080/"
        },
        "id": "0MyjOuZ6Pg4D",
        "outputId": "70df925a-b514-47bf-f399-fceeeeb3b9f7"
      },
      "source": [
        "for a in Students :\n",
        "  print(a)\n",
        "\n",
        "  if a == 'Rani' :\n",
        "    break"
      ],
      "execution_count": null,
      "outputs": [
        {
          "output_type": "stream",
          "text": [
            "Ravi\n",
            "Raja\n",
            "Rani\n"
          ],
          "name": "stdout"
        }
      ]
    },
    {
      "cell_type": "code",
      "metadata": {
        "colab": {
          "base_uri": "https://localhost:8080/"
        },
        "id": "TBEGJyBqN-cj",
        "outputId": "4f913b1b-3161-44ae-a43a-a85dd37dcc14"
      },
      "source": [
        "for a in Students :\n",
        "  print(\"Welcome \" + a)"
      ],
      "execution_count": null,
      "outputs": [
        {
          "output_type": "stream",
          "text": [
            "Welcome Ravi\n",
            "Welcome Raja\n",
            "Welcome Rani\n",
            "Welcome Rajesh\n"
          ],
          "name": "stdout"
        }
      ]
    },
    {
      "cell_type": "markdown",
      "metadata": {
        "id": "vP1kxC03PYM9"
      },
      "source": [
        "Dictionary"
      ]
    },
    {
      "cell_type": "code",
      "metadata": {
        "colab": {
          "base_uri": "https://localhost:8080/"
        },
        "id": "rUskiteFPX82",
        "outputId": "6a5e0c3c-1fb9-49d8-fdcd-ea3004251bd6"
      },
      "source": [
        "StudentMarks = {\n",
        "    \"Ravi\" : 95,\n",
        "    \"Raja\" : 52,\n",
        "    \"Rani\" : 26,\n",
        "    \"Rajesh\" : 98\n",
        "}\n",
        "StudentMarks[\"Ravi\"]"
      ],
      "execution_count": null,
      "outputs": [
        {
          "output_type": "execute_result",
          "data": {
            "text/plain": [
              "95"
            ]
          },
          "metadata": {
            "tags": []
          },
          "execution_count": 2
        }
      ]
    },
    {
      "cell_type": "code",
      "metadata": {
        "id": "xB1UvgXHFQh1"
      },
      "source": [
        "StudentMarks.keys() "
      ],
      "execution_count": null,
      "outputs": []
    },
    {
      "cell_type": "code",
      "metadata": {
        "colab": {
          "base_uri": "https://localhost:8080/"
        },
        "id": "IEPh1-z-FUHK",
        "outputId": "d85992f4-4214-4b9b-c585-fdf453ad3844"
      },
      "source": [
        "for key in StudentMarks.keys() :\n",
        "  #print(key)\n",
        "  #print(StudentMarks[key])\n",
        "  if StudentMarks[key] < 60 :\n",
        "   print(key+ \" has failed\")"
      ],
      "execution_count": null,
      "outputs": [
        {
          "output_type": "stream",
          "text": [
            "Raja has failed\n",
            "Rani has failed\n"
          ],
          "name": "stdout"
        }
      ]
    }
  ]
}